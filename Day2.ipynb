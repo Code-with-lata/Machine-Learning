{
 "cells": [
  {
   "cell_type": "code",
   "execution_count": 1,
   "id": "e6b281a1-6262-49de-b4c3-7233df11c4fa",
   "metadata": {},
   "outputs": [
    {
     "name": "stdout",
     "output_type": "stream",
     "text": [
      "hello\n"
     ]
    }
   ],
   "source": [
    "print(\"hello\")"
   ]
  },
  {
   "cell_type": "code",
   "execution_count": 2,
   "id": "853434c5-f699-4ee5-b71d-05ec2ab79b92",
   "metadata": {},
   "outputs": [
    {
     "name": "stdout",
     "output_type": "stream",
     "text": [
      "[3 4 5 8]\n"
     ]
    }
   ],
   "source": [
    "from numpy import *\n",
    "arr1 = array([3,4,5,8])\n",
    "print(arr1)\n"
   ]
  },
  {
   "cell_type": "code",
   "execution_count": 4,
   "id": "82dc1225-8424-487c-b4e1-a614c601b716",
   "metadata": {},
   "outputs": [
    {
     "name": "stdout",
     "output_type": "stream",
     "text": [
      "[5 6 7]\n",
      "<class 'numpy.ndarray'>\n"
     ]
    }
   ],
   "source": [
    "from numpy import *\n",
    "arr2 = array([5,6,7])\n",
    "arr3 = arr2\n",
    "print (arr3)\n",
    "print(type(arr3))\n"
   ]
  },
  {
   "cell_type": "code",
   "execution_count": 5,
   "id": "887ad347-8b49-45e5-a061-0e228371c902",
   "metadata": {},
   "outputs": [
    {
     "name": "stdout",
     "output_type": "stream",
     "text": [
      "[10 11 12]\n"
     ]
    }
   ],
   "source": [
    "from numpy import *\n",
    "arr2 = array([5,6,7])\n",
    "arr2 = arr2 + 5\n",
    "print(arr2)"
   ]
  },
  {
   "cell_type": "code",
   "execution_count": 6,
   "id": "cc5308d2-2b85-47cd-a49e-39de9fb70c7e",
   "metadata": {},
   "outputs": [
    {
     "name": "stdout",
     "output_type": "stream",
     "text": [
      "[14  9  9]\n"
     ]
    }
   ],
   "source": [
    "from numpy import *\n",
    "arr2 = array([5,6,7])\n",
    "arr3 = array([9,3,2])\n",
    "arr4 = arr2 + arr3\n",
    "print(arr4)"
   ]
  },
  {
   "cell_type": "code",
   "execution_count": 7,
   "id": "c4d92aae-6bf4-4234-a447-c559ae8f7c9c",
   "metadata": {},
   "outputs": [
    {
     "name": "stdout",
     "output_type": "stream",
     "text": [
      "[-0.95892427 -0.2794155   0.6569866 ]\n"
     ]
    }
   ],
   "source": [
    "from numpy import *\n",
    "arr2 = array([5,6,7])\n",
    "print(sin(arr2))"
   ]
  },
  {
   "cell_type": "code",
   "execution_count": 8,
   "id": "8050e0e9-76d0-402a-9728-7c97a7a314dc",
   "metadata": {},
   "outputs": [
    {
     "name": "stdout",
     "output_type": "stream",
     "text": [
      "18\n"
     ]
    }
   ],
   "source": [
    "from numpy import *\n",
    "arr2 = array([5,6,7])\n",
    "print(sum(arr2))"
   ]
  },
  {
   "cell_type": "code",
   "execution_count": 9,
   "id": "f3b8ac99-3352-4625-8f3b-8da6080ca26b",
   "metadata": {},
   "outputs": [
    {
     "name": "stdout",
     "output_type": "stream",
     "text": [
      "[2.23606798 2.44948974 2.64575131]\n"
     ]
    }
   ],
   "source": [
    "from numpy import *\n",
    "arr2 = array([5,6,7])\n",
    "print(sqrt(arr2))"
   ]
  },
  {
   "cell_type": "code",
   "execution_count": 10,
   "id": "3ecd3880-db79-448c-b28e-20399bfb03d7",
   "metadata": {},
   "outputs": [
    {
     "name": "stdout",
     "output_type": "stream",
     "text": [
      "[5 6 7 7 8 9]\n"
     ]
    }
   ],
   "source": [
    "from numpy import *\n",
    "arr1 = array([5,6,7])\n",
    "arr2 = array([7,8,9])\n",
    "print(concatenate([arr1,arr2]))\n"
   ]
  },
  {
   "cell_type": "code",
   "execution_count": 12,
   "id": "f3d66772-ad7f-4d17-b9ca-080a86559212",
   "metadata": {},
   "outputs": [
    {
     "name": "stdout",
     "output_type": "stream",
     "text": [
      "int32\n"
     ]
    }
   ],
   "source": [
    "from numpy import *\n",
    "arr1 = array([\n",
    "            [5,6,7],\n",
    "            [4,5,6]\n",
    "            ])\n",
    "print (arr1.dtype)"
   ]
  },
  {
   "cell_type": "code",
   "execution_count": null,
   "id": "8094c92a-a2b5-47cb-86ac-adbadb409d90",
   "metadata": {},
   "outputs": [],
   "source": []
  },
  {
   "cell_type": "code",
   "execution_count": null,
   "id": "68ee7a28-9bef-480b-8025-57c12419beba",
   "metadata": {},
   "outputs": [],
   "source": []
  }
 ],
 "metadata": {
  "kernelspec": {
   "display_name": "Python 3 (ipykernel)",
   "language": "python",
   "name": "python3"
  },
  "language_info": {
   "codemirror_mode": {
    "name": "ipython",
    "version": 3
   },
   "file_extension": ".py",
   "mimetype": "text/x-python",
   "name": "python",
   "nbconvert_exporter": "python",
   "pygments_lexer": "ipython3",
   "version": "3.12.3"
  }
 },
 "nbformat": 4,
 "nbformat_minor": 5
}
