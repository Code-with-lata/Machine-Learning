{
 "cells": [
  {
   "cell_type": "code",
   "execution_count": 1,
   "id": "8b2121ab-60bb-45c9-869a-8622ce2008c6",
   "metadata": {},
   "outputs": [
    {
     "name": "stdout",
     "output_type": "stream",
     "text": [
      "hello\n"
     ]
    }
   ],
   "source": [
    "print(\"hello\")"
   ]
  },
  {
   "cell_type": "code",
   "execution_count": 4,
   "id": "53615f33-0d02-479f-88bb-b019263592bf",
   "metadata": {},
   "outputs": [
    {
     "name": "stdout",
     "output_type": "stream",
     "text": [
      "[[1 3 6]\n",
      " [2 8 9]]\n",
      "[1 3 6 2 8 9]\n"
     ]
    }
   ],
   "source": [
    "from numpy import *\n",
    "arr1 = array([\n",
    "             [1,3,6],\n",
    "             [2,8,9]\n",
    "            ])\n",
    "print(arr1)\n",
    "arr2 = arr1.flatten()\n",
    "print(arr2)"
   ]
  },
  {
   "cell_type": "code",
   "execution_count": 7,
   "id": "6ed03f7a-5d59-48b9-9a3c-69204c33f014",
   "metadata": {},
   "outputs": [
    {
     "name": "stdout",
     "output_type": "stream",
     "text": [
      "[[1 2]\n",
      " [3 4]\n",
      " [5 6]]\n"
     ]
    }
   ],
   "source": [
    "from numpy import *\n",
    "arr1 = array([1,2,3,4,5,6])\n",
    "arr2 = arr1.reshape(3,2)\n",
    "print(arr2)"
   ]
  },
  {
   "cell_type": "code",
   "execution_count": 10,
   "id": "bd0fb5f8-b9e4-45b4-a0bf-78278004af5a",
   "metadata": {},
   "outputs": [
    {
     "name": "stdout",
     "output_type": "stream",
     "text": [
      "8\n"
     ]
    }
   ],
   "source": [
    "from numpy import *\n",
    "arr1 = array([\n",
    "             [1,3,6],\n",
    "             [2,8,9]\n",
    "            ])\n",
    "print(arr1[1,1])"
   ]
  },
  {
   "cell_type": "code",
   "execution_count": 11,
   "id": "8a5e2c33-a7bb-4f09-8403-2fe76e7b8b55",
   "metadata": {},
   "outputs": [
    {
     "name": "stdout",
     "output_type": "stream",
     "text": [
      "[[[ 1  2  3]\n",
      "  [ 4  5  6]]\n",
      "\n",
      " [[ 7  8  9]\n",
      "  [10 11 12]]]\n"
     ]
    }
   ],
   "source": [
    "from numpy import *\n",
    "arr1 = array([\n",
    "             [1,2,3,4,5,6],\n",
    "             [7,8,9,10,11,12]\n",
    "            ])\n",
    "arr2 = arr1.flatten()\n",
    "arr3 = arr2.reshape(2,2,3)\n",
    "print(arr3)"
   ]
  },
  {
   "cell_type": "code",
   "execution_count": 12,
   "id": "d129395b-d98a-4ff6-9d37-de2718a3128e",
   "metadata": {},
   "outputs": [
    {
     "name": "stdout",
     "output_type": "stream",
     "text": [
      "[0. 0. 0. 0. 0.]\n"
     ]
    }
   ],
   "source": [
    "from numpy import *\n",
    "arr1 = zeros(5)\n",
    "print(arr1)"
   ]
  },
  {
   "cell_type": "code",
   "execution_count": 14,
   "id": "a4d7b1fb-87dd-4e1b-94f9-fae6859e103e",
   "metadata": {},
   "outputs": [
    {
     "name": "stdout",
     "output_type": "stream",
     "text": [
      "[1 1 1 1 1]\n"
     ]
    }
   ],
   "source": [
    "from numpy import *\n",
    "arr1 = ones(5,int)\n",
    "print(arr1)"
   ]
  },
  {
   "cell_type": "code",
   "execution_count": 16,
   "id": "22ead0ee-273c-4c7c-bd86-e9d10ff7520a",
   "metadata": {},
   "outputs": [
    {
     "name": "stdout",
     "output_type": "stream",
     "text": [
      "1\n",
      "2\n",
      "3\n",
      "4\n"
     ]
    }
   ],
   "source": [
    "for i in range (1,5,1):\n",
    "    print(i)"
   ]
  },
  {
   "cell_type": "code",
   "execution_count": 17,
   "id": "a5f53720-11c9-4ea5-a905-a0fab7f88dcc",
   "metadata": {},
   "outputs": [
    {
     "name": "stdout",
     "output_type": "stream",
     "text": [
      "[ 1  2  3  4  5  6  7  8  9 10 11 12 13 14]\n"
     ]
    }
   ],
   "source": [
    "from numpy import *\n",
    "arr1 = arange(1,15,1)\n",
    "print(arr1)"
   ]
  },
  {
   "cell_type": "code",
   "execution_count": 18,
   "id": "d4b8f379-e1fb-4b1c-84d1-3e73111c47ec",
   "metadata": {},
   "outputs": [
    {
     "name": "stdout",
     "output_type": "stream",
     "text": [
      "[1.         1.22222222 1.44444444 1.66666667 1.88888889 2.11111111\n",
      " 2.33333333 2.55555556 2.77777778 3.        ]\n"
     ]
    }
   ],
   "source": [
    "from numpy import * \n",
    "arr1 = linspace(1,3,10)\n",
    "print(arr1)"
   ]
  },
  {
   "cell_type": "code",
   "execution_count": null,
   "id": "f2a5c675-070f-4e89-be52-eb3e321c85f1",
   "metadata": {},
   "outputs": [],
   "source": []
  }
 ],
 "metadata": {
  "kernelspec": {
   "display_name": "Python 3 (ipykernel)",
   "language": "python",
   "name": "python3"
  },
  "language_info": {
   "codemirror_mode": {
    "name": "ipython",
    "version": 3
   },
   "file_extension": ".py",
   "mimetype": "text/x-python",
   "name": "python",
   "nbconvert_exporter": "python",
   "pygments_lexer": "ipython3",
   "version": "3.12.3"
  }
 },
 "nbformat": 4,
 "nbformat_minor": 5
}
